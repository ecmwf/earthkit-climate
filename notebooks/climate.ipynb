{
 "cells": [
  {
   "cell_type": "markdown",
   "metadata": {},
   "source": [
    "# Notebook to demonstrate the climate tools available\n",
    "#  Based on data retreived via the cdsapi, you will need a cdsapi key to download the data"
   ]
  },
  {
   "cell_type": "code",
   "execution_count": null,
   "metadata": {},
   "outputs": [],
   "source": [
    "# Imports\n",
    "import os\n",
    "\n",
    "import xarray as xr\n",
    "\n",
    "import cdsapi\n",
    "import tyto"
   ]
  },
  {
   "cell_type": "code",
   "execution_count": null,
   "metadata": {},
   "outputs": [],
   "source": [
    "# Create directories \n",
    "if not os.path.isdir('test_data'): os.mkdir('test_data')\n",
    "\n",
    " \n",
    "# set constants\n",
    "YEARS = [yr for yr in range(2015,2018)]"
   ]
  },
  {
   "cell_type": "code",
   "execution_count": null,
   "metadata": {},
   "outputs": [],
   "source": [
    "# Download 5 years of hourly ERA5 data for europe\n",
    "c = cdsapi.Client()\n",
    "out_fnames = []\n",
    "for year in YEARS:\n",
    "    out_fnames += [f\"test_data/era5_temperature_europe_{year}.grib\"]\n",
    "    if not os.path.isfile(out_fnames[-1]):\n",
    "        c.retrieve(\n",
    "            'reanalysis-era5-single-levels',\n",
    "            {\n",
    "                'product_type': 'reanalysis',\n",
    "                'variable': '2m_temperature',\n",
    "                'year': year,\n",
    "                'month': [\n",
    "                    '01', '02', '03',\n",
    "                    '04', '05', '06',\n",
    "                    '07', '08', '09',\n",
    "                    '10', '11', '12',\n",
    "                ],\n",
    "                'day': [\n",
    "                    '01', '02', '03',\n",
    "                    '04', '05', '06',\n",
    "                    '07', '08', '09',\n",
    "                    '10', '11', '12',\n",
    "                    '13', '14', '15',\n",
    "                    '16', '17', '18',\n",
    "                    '19', '20', '21',\n",
    "                    '22', '23', '24',\n",
    "                    '25', '26', '27',\n",
    "                    '28', '29', '30',\n",
    "                    '31',\n",
    "                ],\n",
    "                'time': [\n",
    "                    '00:00', '06:00', '12:00', '18:00',\n",
    "                ],\n",
    "                'area': [\n",
    "                    80, -10, 30, 60,\n",
    "                ],\n",
    "                'format': 'grib',\n",
    "            },\n",
    "        ).download(target=out_fnames[-1])\n",
    "\n"
   ]
  },
  {
   "cell_type": "code",
   "execution_count": null,
   "metadata": {},
   "outputs": [],
   "source": [
    "# Open data in xarray\n",
    "t2m_data = xr.open_mfdataset(out_fnames)\n",
    "# t2m_data"
   ]
  },
  {
   "cell_type": "code",
   "execution_count": null,
   "metadata": {},
   "outputs": [],
   "source": [
    "climatology = tyto.climate.climatology_mean(t2m_data, frequency='month')\n",
    "climatology"
   ]
  },
  {
   "cell_type": "code",
   "execution_count": null,
   "metadata": {},
   "outputs": [],
   "source": []
  },
  {
   "cell_type": "code",
   "execution_count": null,
   "metadata": {},
   "outputs": [],
   "source": []
  }
 ],
 "metadata": {
  "kernelspec": {
   "display_name": "Python 3.8.11 64-bit ('miniconda3')",
   "language": "python",
   "name": "python3"
  },
  "language_info": {
   "codemirror_mode": {
    "name": "ipython",
    "version": 3
   },
   "file_extension": ".py",
   "mimetype": "text/x-python",
   "name": "python",
   "nbconvert_exporter": "python",
   "pygments_lexer": "ipython3",
   "version": "3.8.11"
  },
  "orig_nbformat": 4,
  "vscode": {
   "interpreter": {
    "hash": "f026738de3ef83d7658139fbcb065fa9c6be3efc526ade3acdb1ea7d577f7b57"
   }
  }
 },
 "nbformat": 4,
 "nbformat_minor": 2
}
